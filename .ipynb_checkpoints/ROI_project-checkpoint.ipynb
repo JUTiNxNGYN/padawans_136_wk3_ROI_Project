{
 "cells": [
  {
   "cell_type": "code",
   "execution_count": 11,
   "id": "0d524090",
   "metadata": {},
   "outputs": [
    {
     "name": "stdout",
     "output_type": "stream",
     "text": [
      "What is the property price?: 500000\n",
      "What is the monthly rent for the property?: 2000\n",
      "How much are the annual expenses (utilites, tax, insurance)?: 1000\n",
      "\n",
      "\n",
      "Property Price: $500000\n",
      "Monthly Rent Payment: $2000\n",
      "Annual Expenses: $1000\n",
      "Revenue: $24000\n",
      "Net Income: $23000\n",
      "\n",
      "\n",
      "The ROI for the property is: 4.60%\n",
      "\n",
      "\n",
      "Do you want to enter details for another property? (yes/no): yes\n",
      "What is the property price?: 33,000\n",
      "Please try again. Enter a numeric value without commas\n",
      "What is the property price?: 330000\n",
      "What is the monthly rent for the property?: 1000\n",
      "How much are the annual expenses (utilites, tax, insurance)?: 1000\n",
      "\n",
      "\n",
      "Property Price: $330000\n",
      "Monthly Rent Payment: $1000\n",
      "Annual Expenses: $1000\n",
      "Revenue: $12000\n",
      "Net Income: $11000\n",
      "\n",
      "\n",
      "The ROI for the property is: 3.33%\n",
      "\n",
      "\n",
      "Do you want to enter details for another property? (yes/no): no\n"
     ]
    }
   ],
   "source": [
    "class RentalProperty:\n",
    "    def __init__(self, purchase, monthly, expenses):\n",
    "        self.purchase = purchase\n",
    "        self.monthly = monthly\n",
    "        self.expenses = expenses\n",
    "\n",
    "    def ReturnOnInvestment(self):\n",
    "        revenue = self.monthly * 12\n",
    "        income = revenue - self.expenses\n",
    "#         roi = (net income / cost of investment) * 100\n",
    "        roi = (income / self.purchase) * 100\n",
    "        return roi, revenue, income\n",
    "\n",
    "\n",
    "if __name__ == \"__main__\":\n",
    "    while True:\n",
    "        try:\n",
    "            purchase = int(input(\"What is the property price?: \"))\n",
    "            monthly = int(input(\"What is the monthly rent for the property?: \"))\n",
    "            expenses = int(input(\"How much are the annual expenses (utilites, tax, insurance)?: \"))\n",
    "\n",
    "            rental_property = RentalProperty(purchase, monthly, expenses)\n",
    "\n",
    "            roi, revenue, income = rental_property.ReturnOnInvestment()\n",
    "            \n",
    "            print(\"\\n\")\n",
    "            print(f\"Property Price: ${purchase}\")\n",
    "            print(f\"Monthly Rent Payment: ${monthly}\")\n",
    "            print(f\"Annual Expenses: ${expenses}\")\n",
    "            print(f\"Revenue: ${revenue}\")\n",
    "            print(f\"Net Income: ${income}\")\n",
    "            print(\"\\n\")\n",
    "            print(f\"The ROI for the property is: {roi:.2f}%\")\n",
    "\n",
    "            print(\"\\n\")\n",
    "            another_property = input(\"Do you want to enter details for another property? (yes/no): \")\n",
    "            if another_property.lower() != \"yes\":\n",
    "                break\n",
    "        except ValueError:\n",
    "            print(\"Please try again. Enter a numeric value without commas\")\n"
   ]
  },
  {
   "cell_type": "code",
   "execution_count": null,
   "id": "630846df",
   "metadata": {},
   "outputs": [],
   "source": []
  },
  {
   "cell_type": "code",
   "execution_count": null,
   "id": "a775812a",
   "metadata": {},
   "outputs": [],
   "source": []
  },
  {
   "cell_type": "code",
   "execution_count": null,
   "id": "8df59920",
   "metadata": {},
   "outputs": [],
   "source": []
  }
 ],
 "metadata": {
  "kernelspec": {
   "display_name": "Python 3 (ipykernel)",
   "language": "python",
   "name": "python3"
  },
  "language_info": {
   "codemirror_mode": {
    "name": "ipython",
    "version": 3
   },
   "file_extension": ".py",
   "mimetype": "text/x-python",
   "name": "python",
   "nbconvert_exporter": "python",
   "pygments_lexer": "ipython3",
   "version": "3.11.4"
  }
 },
 "nbformat": 4,
 "nbformat_minor": 5
}
